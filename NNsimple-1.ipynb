{
 "cells": [
  {
   "cell_type": "code",
   "execution_count": 49,
   "id": "aec01c69-10ff-4511-b1bd-9868bd9a817a",
   "metadata": {
    "ExecuteTime": {
     "end_time": "2024-07-26T21:56:08.123013Z",
     "start_time": "2024-07-26T21:56:07.843141Z"
    }
   },
   "outputs": [],
   "source": [
    "#!/usr/bin/env python\n",
    "# -*- coding: utf-8 -*-\n",
    "\n",
    "import numpy as np"
   ]
  },
  {
   "cell_type": "code",
   "execution_count": 50,
   "id": "57a0d0a3-bce8-4c38-8519-de438453d9c9",
   "metadata": {
    "ExecuteTime": {
     "end_time": "2024-07-26T21:56:12.606188Z",
     "start_time": "2024-07-26T21:56:12.603050Z"
    }
   },
   "outputs": [],
   "source": [
    "# Funcion de activacion \n",
    "def sigmoid(z):\n",
    "    return 1/(1 + np.exp(-z))"
   ]
  },
  {
   "cell_type": "code",
   "execution_count": 51,
   "id": "c5a8d75c",
   "metadata": {},
   "outputs": [],
   "source": [
    "# Inicializacion de los parametros con 0's\n",
    "def initialize_parameters_zero(n_x, n_h, n_y):\n",
    "    W1 = np.zeros((n_h, n_x))\n",
    "    b1 = np.zeros((n_h, 1))\n",
    "    W2 = np.zeros((n_y, n_h))\n",
    "    b2 = np.zeros((n_y, 1))\n",
    "    \n",
    "    parameters = {\n",
    "        \"W1\": W1,\n",
    "        \"b1\": b1,\n",
    "        \"W2\": W2,\n",
    "        \"b2\": b2\n",
    "    }\n",
    "    return parameters"
   ]
  },
  {
   "cell_type": "code",
   "execution_count": 52,
   "id": "116b55fd-9a7a-4b44-9539-d4872bbe498c",
   "metadata": {
    "ExecuteTime": {
     "end_time": "2024-07-26T22:00:09.240146Z",
     "start_time": "2024-07-26T22:00:09.228378Z"
    }
   },
   "outputs": [],
   "source": [
    "# Inicializacion de los parametros \n",
    "def initialize_parameters(n_x, n_h, n_y):\n",
    "    W1 = np.random.randn(n_h, n_x)\n",
    "    b1 = np.random.randn(n_h, 1)\n",
    "    W2 = np.random.randn(n_y, n_h)\n",
    "    b2 = np.random.randn(n_y, 1)\n",
    "    \n",
    "    parameters = {\n",
    "        \"W1\": W1,\n",
    "        \"b1\" : b1,\n",
    "        \"W2\": W2,\n",
    "        \"b2\" : b2\n",
    "    }\n",
    "    return parameters"
   ]
  },
  {
   "cell_type": "code",
   "execution_count": 53,
   "id": "d6be7ae9-04d0-4d6a-9c01-5a7eac130dfa",
   "metadata": {
    "ExecuteTime": {
     "end_time": "2024-07-26T21:56:14.124719Z",
     "start_time": "2024-07-26T21:56:14.121429Z"
    }
   },
   "outputs": [],
   "source": [
    "def forward_prop(X, parameters):\n",
    "    W1 = parameters[\"W1\"]\n",
    "    b1 = parameters[\"b1\"]\n",
    "    W2 = parameters[\"W2\"]\n",
    "    b2 = parameters[\"b2\"]\n",
    "\n",
    "    Z1 = np.dot(W1, X) + b1\n",
    "    A1 = np.tanh(Z1)\n",
    "    Z2 = np.dot(W2, A1) + b2\n",
    "    A2 = sigmoid(Z2)\n",
    "\n",
    "    cache = {\n",
    "        \"A1\": A1,\n",
    "        \"A2\": A2\n",
    "    }\n",
    "    return A2, cache"
   ]
  },
  {
   "cell_type": "code",
   "execution_count": 42,
   "id": "b9955bcc-5d7a-4835-92a3-e8a14b17075a",
   "metadata": {
    "ExecuteTime": {
     "end_time": "2024-07-26T21:59:21.621142Z",
     "start_time": "2024-07-26T21:59:21.608741Z"
    }
   },
   "outputs": [],
   "source": [
    "# Funcion de perdida\n",
    "def loss_function(A2, Y):\n",
    "    cost = -np.sum(np.multiply(Y, np.log(A2)) +  np.multiply(1-Y, np.log(1-A2)))/m\n",
    "    cost = np.squeeze(cost)\n",
    "\n",
    "    return cost"
   ]
  },
  {
   "cell_type": "code",
   "execution_count": 43,
   "id": "c44babe6-3b89-4ae1-afa0-c0d67963db7b",
   "metadata": {
    "ExecuteTime": {
     "end_time": "2024-07-26T21:59:00.143312Z",
     "start_time": "2024-07-26T21:59:00.135020Z"
    }
   },
   "outputs": [],
   "source": [
    "def backward_prop(X, Y, cache, parameters):\n",
    "    A1 = cache[\"A1\"]\n",
    "    A2 = cache[\"A2\"]\n",
    "\n",
    "    W2 = parameters[\"W2\"]\n",
    "\n",
    "    dZ2 = A2 - Y\n",
    "    dW2 = np.dot(dZ2, A1.T)/m\n",
    "    db2 = np.sum(dZ2, axis=1, keepdims=True)/m\n",
    "    dZ1 = np.multiply(np.dot(W2.T, dZ2), 1-np.power(A1, 2))\n",
    "    dW1 = np.dot(dZ1, X.T)/m\n",
    "    db1 = np.sum(dZ1, axis=1, keepdims=True)/m\n",
    "\n",
    "    grads = {\n",
    "        \"dW1\": dW1,\n",
    "        \"db1\": db1,\n",
    "        \"dW2\": dW2,\n",
    "        \"db2\": db2\n",
    "    }\n",
    "\n",
    "    return grads"
   ]
  },
  {
   "cell_type": "code",
   "execution_count": 54,
   "id": "e33cbd4e",
   "metadata": {},
   "outputs": [],
   "source": [
    "###### 3\n",
    "\n",
    "\n",
    "def mse_loss(A2, Y):\n",
    "    cost = np.mean(np.square(A2 - Y))\n",
    "    return cost\n",
    "\n",
    "def backward_prop_mse(X, Y, cache, parameters):\n",
    "    A1 = cache[\"A1\"]\n",
    "    A2 = cache[\"A2\"]\n",
    "    W2 = parameters[\"W2\"]\n",
    "\n",
    "    dZ2 = A2 - Y\n",
    "    dW2 = np.dot(dZ2, A1.T)/m\n",
    "    db2 = np.sum(dZ2, axis=1, keepdims=True)/m\n",
    "    dZ1 = np.multiply(np.dot(W2.T, dZ2), 1-np.power(A1, 2))\n",
    "    dW1 = np.dot(dZ1, X.T)/m\n",
    "    db1 = np.sum(dZ1, axis=1, keepdims=True)/m\n",
    "\n",
    "    grads = {\n",
    "        \"dW1\": dW1,\n",
    "        \"db1\": db1,\n",
    "        \"dW2\": dW2,\n",
    "        \"db2\": db2\n",
    "    }\n",
    "\n",
    "    return grads\n",
    "\n",
    "def model_mse(X, Y, n_x, n_h, n_y, num_of_iters, learning_rate):\n",
    "    parameters = initialize_parameters(n_x, n_h, n_y)\n",
    "\n",
    "    for i in range(0, num_of_iters+1):\n",
    "        a2, cache = forward_prop(X, parameters)\n",
    "\n",
    "        cost = mse_loss(a2, Y)\n",
    "\n",
    "        grads = backward_prop_mse(X, Y, cache, parameters)\n",
    "\n",
    "        parameters = update_parameters(parameters, grads, learning_rate)\n",
    "\n",
    "        if(i % 100 == 0):\n",
    "            print('Cost after iteration# {:d}: {:f}'.format(i, cost))\n",
    "\n",
    "    return parameters\n"
   ]
  },
  {
   "cell_type": "code",
   "execution_count": 55,
   "id": "46551921-f9de-469c-803b-1d3178de2e63",
   "metadata": {
    "ExecuteTime": {
     "end_time": "2024-07-26T21:56:16.164320Z",
     "start_time": "2024-07-26T21:56:16.160744Z"
    }
   },
   "outputs": [],
   "source": [
    "def update_parameters(parameters, grads, learning_rate):\n",
    "    W1 = parameters[\"W1\"]\n",
    "    b1 = parameters[\"b1\"]\n",
    "    W2 = parameters[\"W2\"]\n",
    "    b2 = parameters[\"b2\"]\n",
    "\n",
    "    dW1 = grads[\"dW1\"]\n",
    "    db1 = grads[\"db1\"]\n",
    "    dW2 = grads[\"dW2\"]\n",
    "    db2 = grads[\"db2\"]\n",
    "\n",
    "    W1 = W1 - learning_rate*dW1\n",
    "    b1 = b1 - learning_rate*db1\n",
    "    W2 = W2 - learning_rate*dW2\n",
    "    b2 = b2 - learning_rate*db2\n",
    "    \n",
    "    new_parameters = {\n",
    "        \"W1\": W1,\n",
    "        \"W2\": W2,\n",
    "        \"b1\" : b1,\n",
    "        \"b2\" : b2\n",
    "    }\n",
    "\n",
    "    return new_parameters"
   ]
  },
  {
   "cell_type": "code",
   "execution_count": 45,
   "id": "d570771f-8737-448d-a26a-a29e6f0adb16",
   "metadata": {
    "ExecuteTime": {
     "end_time": "2024-07-26T21:59:14.094293Z",
     "start_time": "2024-07-26T21:59:14.087913Z"
    }
   },
   "outputs": [],
   "source": [
    "def model(X, Y, n_x, n_h, n_y, num_of_iters, learning_rate, initialization=\"random\"):\n",
    "    if initialization == \"random\":\n",
    "        parameters = initialize_parameters(n_x, n_h, n_y)\n",
    "    elif initialization == \"zero\":\n",
    "        parameters = initialize_parameters_zero(n_x, n_h, n_y)\n",
    "\n",
    "    for i in range(0, num_of_iters+1):\n",
    "        a2, cache = forward_prop(X, parameters)\n",
    "\n",
    "        cost = loss_function(a2, Y)\n",
    "\n",
    "        grads = backward_prop(X, Y, cache, parameters)\n",
    "\n",
    "        parameters = update_parameters(parameters, grads, learning_rate)\n",
    "\n",
    "        if(i % 100 == 0):\n",
    "            print('Cost after iteration# {:d}: {:f}'.format(i, cost))\n",
    "\n",
    "    return parameters\n"
   ]
  },
  {
   "cell_type": "code",
   "execution_count": 56,
   "id": "7d18e70d-67e2-45b0-8fe6-25425837ce26",
   "metadata": {
    "ExecuteTime": {
     "end_time": "2024-07-26T21:56:19.879371Z",
     "start_time": "2024-07-26T21:56:19.874774Z"
    }
   },
   "outputs": [],
   "source": [
    "def predict(X, parameters):\n",
    "    a2, cache = forward_prop(X, parameters)\n",
    "    yhat = a2\n",
    "    yhat = np.squeeze(yhat)\n",
    "    if(yhat >= 0.5):\n",
    "        y_predict = 1\n",
    "    else:\n",
    "        y_predict = 0\n",
    "\n",
    "    return y_predict"
   ]
  },
  {
   "cell_type": "code",
   "execution_count": 36,
   "id": "d88cffb5-e998-4533-aa74-243088c76171",
   "metadata": {
    "ExecuteTime": {
     "end_time": "2024-07-26T22:00:12.409074Z",
     "start_time": "2024-07-26T22:00:12.354124Z"
    }
   },
   "outputs": [
    {
     "name": "stdout",
     "output_type": "stream",
     "text": [
      "Inicialización aleatoria:\n",
      "Cost after iteration# 0: 1.052558\n",
      "Cost after iteration# 100: 0.695402\n",
      "Cost after iteration# 200: 0.693668\n",
      "Cost after iteration# 300: 0.693206\n",
      "Cost after iteration# 400: 0.692966\n",
      "Cost after iteration# 500: 0.692779\n",
      "Cost after iteration# 600: 0.692587\n",
      "Cost after iteration# 700: 0.692352\n",
      "Cost after iteration# 800: 0.692030\n",
      "Cost after iteration# 900: 0.691539\n",
      "Cost after iteration# 1000: 0.690679\n",
      "Neural Network prediction for example (1, 1) is 1\n",
      "\n",
      "Inicialización en 0:\n",
      "Cost after iteration# 0: 0.693147\n",
      "Cost after iteration# 100: 0.693147\n",
      "Cost after iteration# 200: 0.693147\n",
      "Cost after iteration# 300: 0.693147\n",
      "Cost after iteration# 400: 0.693147\n",
      "Cost after iteration# 500: 0.693147\n",
      "Cost after iteration# 600: 0.693147\n",
      "Cost after iteration# 700: 0.693147\n",
      "Cost after iteration# 800: 0.693147\n",
      "Cost after iteration# 900: 0.693147\n",
      "Cost after iteration# 1000: 0.693147\n",
      "Neural Network prediction for example (1, 1) is 1\n"
     ]
    }
   ],
   "source": [
    "####### 1\n",
    "\n",
    "np.random.seed(2)\n",
    "\n",
    "# The 4 training examples by columns\n",
    "X = np.array([[0, 0, 1, 1], [0, 1, 0, 1]])\n",
    "\n",
    "# The outputs of the XOR for every example in X\n",
    "Y = np.array([[0, 1, 1, 0]])\n",
    "\n",
    "# No. of training examples\n",
    "m = X.shape[1]\n",
    "\n",
    "# Set the hyperparameters\n",
    "n_x = 2     # No. of neurons in first layer\n",
    "n_h = 2     # No. of neurons in hidden layer\n",
    "n_y = 1     # No. of neurons in output layer\n",
    "num_of_iters = 1000\n",
    "learning_rate = 0.3\n",
    "\n",
    "# Inicialización aleatoria\n",
    "print(\"Inicialización aleatoria:\")\n",
    "trained_parameters_random = model(X, Y, n_x, n_h, n_y, num_of_iters, learning_rate, initialization=\"random\")\n",
    "\n",
    "# Test 2X1 vector to calculate the XOR of its elements. \n",
    "X_test = np.array([[1], [1]])\n",
    "y_predict = predict(X_test, trained_parameters_random)\n",
    "print('Neural Network prediction for example ({:d}, {:d}) is {:d}'.format(X_test[0][0], X_test[1][0], y_predict))\n",
    "\n",
    "# Inicialización en 0\n",
    "print(\"\\nInicialización en 0:\")\n",
    "trained_parameters_zero = model(X, Y, n_x, n_h, n_y, num_of_iters, learning_rate, initialization=\"zero\")\n",
    "\n",
    "# Test 2X1 vector to calculate the XOR of its elements. \n",
    "y_predict = predict(X_test, trained_parameters_zero)\n",
    "print('Neural Network prediction for example ({:d}, {:d}) is {:d}'.format(X_test[0][0], X_test[1][0], y_predict))"
   ]
  },
  {
   "cell_type": "code",
   "execution_count": 48,
   "id": "af173548",
   "metadata": {},
   "outputs": [
    {
     "name": "stdout",
     "output_type": "stream",
     "text": [
      "\n",
      "Testing with learning rate: 0.01\n",
      "Cost after iteration# 0: 1.052558\n",
      "Cost after iteration# 100: 0.948307\n",
      "Cost after iteration# 200: 0.864690\n",
      "Cost after iteration# 300: 0.803459\n",
      "Cost after iteration# 400: 0.765007\n",
      "Cost after iteration# 500: 0.742498\n",
      "Cost after iteration# 600: 0.729047\n",
      "Cost after iteration# 700: 0.720556\n",
      "Cost after iteration# 800: 0.714882\n",
      "Cost after iteration# 900: 0.710898\n",
      "Cost after iteration# 1000: 0.707985\n",
      "Neural Network prediction for example (1, 1) with learning rate 0.01 is 1\n",
      "\n",
      "Testing with learning rate: 0.1\n",
      "Cost after iteration# 0: 1.013592\n",
      "Cost after iteration# 100: 0.674649\n",
      "Cost after iteration# 200: 0.629729\n",
      "Cost after iteration# 300: 0.590321\n",
      "Cost after iteration# 400: 0.561134\n",
      "Cost after iteration# 500: 0.540238\n",
      "Cost after iteration# 600: 0.524827\n",
      "Cost after iteration# 700: 0.512317\n",
      "Cost after iteration# 800: 0.498693\n",
      "Cost after iteration# 900: 0.452745\n",
      "Cost after iteration# 1000: 0.312239\n",
      "Neural Network prediction for example (1, 1) with learning rate 0.10 is 0\n",
      "\n",
      "Testing with learning rate: 0.5\n",
      "Cost after iteration# 0: 0.713866\n",
      "Cost after iteration# 100: 0.637009\n",
      "Cost after iteration# 200: 0.531485\n",
      "Cost after iteration# 300: 0.504387\n",
      "Cost after iteration# 400: 0.494727\n",
      "Cost after iteration# 500: 0.489987\n",
      "Cost after iteration# 600: 0.487218\n",
      "Cost after iteration# 700: 0.485415\n",
      "Cost after iteration# 800: 0.484154\n",
      "Cost after iteration# 900: 0.483226\n",
      "Cost after iteration# 1000: 0.482515\n",
      "Neural Network prediction for example (1, 1) with learning rate 0.50 is 1\n"
     ]
    }
   ],
   "source": [
    "####### 2\n",
    "\n",
    "\n",
    "np.random.seed(2)\n",
    "\n",
    "# The 4 training examples by columns\n",
    "X = np.array([[0, 0, 1, 1], [0, 1, 0, 1]])\n",
    "\n",
    "# The outputs of the XOR for every example in X\n",
    "Y = np.array([[0, 1, 1, 0]])\n",
    "\n",
    "# No. of training examples\n",
    "m = X.shape[1]\n",
    "\n",
    "# Set the hyperparameters\n",
    "n_x = 2     # No. of neurons in first layer\n",
    "n_h = 2     # No. of neurons in hidden layer\n",
    "n_y = 1     # No. of neurons in output layer\n",
    "num_of_iters = 1000\n",
    "\n",
    "learning_rates = [0.01, 0.1, 0.5]\n",
    "\n",
    "for lr in learning_rates:\n",
    "    print(f\"\\nTesting with learning rate: {lr}\")\n",
    "    trained_parameters = model(X, Y, n_x, n_h, n_y, num_of_iters, lr)\n",
    "\n",
    "    # Test 2X1 vector to calculate the XOR of its elements. \n",
    "    X_test = np.array([[1], [1]])\n",
    "    y_predict = predict(X_test, trained_parameters)\n",
    "    print('Neural Network prediction for example ({:d}, {:d}) with learning rate {:.2f} is {:d}'.format(X_test[0][0], X_test[1][0], lr, y_predict))"
   ]
  },
  {
   "cell_type": "code",
   "execution_count": 57,
   "id": "466472a6",
   "metadata": {},
   "outputs": [
    {
     "name": "stdout",
     "output_type": "stream",
     "text": [
      "\n",
      "Entrenamiento con MSE:\n",
      "Cost after iteration# 0: 0.357529\n",
      "Cost after iteration# 100: 0.251127\n",
      "Cost after iteration# 200: 0.250260\n",
      "Cost after iteration# 300: 0.250029\n",
      "Cost after iteration# 400: 0.249910\n",
      "Cost after iteration# 500: 0.249816\n",
      "Cost after iteration# 600: 0.249720\n",
      "Cost after iteration# 700: 0.249602\n",
      "Cost after iteration# 800: 0.249441\n",
      "Cost after iteration# 900: 0.249196\n",
      "Cost after iteration# 1000: 0.248766\n",
      "Neural Network prediction for example (1, 1) is 1\n"
     ]
    }
   ],
   "source": [
    "##### 3\n",
    "\n",
    "np.random.seed(2)\n",
    "\n",
    "# The 4 training examples by columns\n",
    "X = np.array([[0, 0, 1, 1], [0, 1, 0, 1]])\n",
    "\n",
    "# The outputs of the XOR for every example in X\n",
    "Y = np.array([[0, 1, 1, 0]])\n",
    "\n",
    "# No. of training examples\n",
    "m = X.shape[1]\n",
    "\n",
    "# Set the hyperparameters\n",
    "n_x = 2     # No. of neurons in first layer\n",
    "n_h = 2     # No. of neurons in hidden layer\n",
    "n_y = 1     # No. of neurons in output layer\n",
    "num_of_iters = 1000\n",
    "learning_rate = 0.3\n",
    "\n",
    "# Entrenamiento con MSE\n",
    "print(\"\\nEntrenamiento con MSE:\")\n",
    "trained_parameters_mse = model_mse(X, Y, n_x, n_h, n_y, num_of_iters, learning_rate)\n",
    "\n",
    "# Test 2X1 vector to calculate the XOR of its elements. \n",
    "X_test = np.array([[1], [1]])\n",
    "y_predict = predict(X_test, trained_parameters_mse)\n",
    "print('Neural Network prediction for example ({:d}, {:d}) is {:d}'.format(X_test[0][0], X_test[1][0], y_predict))"
   ]
  }
 ],
 "metadata": {
  "kernelspec": {
   "display_name": "Python 3 (ipykernel)",
   "language": "python",
   "name": "python3"
  },
  "language_info": {
   "codemirror_mode": {
    "name": "ipython",
    "version": 3
   },
   "file_extension": ".py",
   "mimetype": "text/x-python",
   "name": "python",
   "nbconvert_exporter": "python",
   "pygments_lexer": "ipython3",
   "version": "3.9.6"
  }
 },
 "nbformat": 4,
 "nbformat_minor": 5
}
